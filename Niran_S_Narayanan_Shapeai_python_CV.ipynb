{
  "nbformat": 4,
  "nbformat_minor": 0,
  "metadata": {
    "accelerator": "GPU",
    "colab": {
      "name": "Niran_S_Narayanan_Shapeai_python CV.ipynb",
      "provenance": [],
      "collapsed_sections": [],
      "authorship_tag": "ABX9TyPWU7bnTa+ioo0YJAgmXwFG",
      "include_colab_link": true
    },
    "kernelspec": {
      "display_name": "Python 3",
      "name": "python3"
    }
  },
  "cells": [
    {
      "cell_type": "markdown",
      "metadata": {
        "id": "view-in-github",
        "colab_type": "text"
      },
      "source": [
        "<a href=\"https://colab.research.google.com/github/nirans2002/pythoncv-shapeai/blob/main/Niran_S_Narayanan_Shapeai_python_CV.ipynb\" target=\"_parent\"><img src=\"https://colab.research.google.com/assets/colab-badge.svg\" alt=\"Open In Colab\"/></a>"
      ]
    },
    {
      "cell_type": "code",
      "metadata": {
        "id": "tTOBQB7Ze_4e"
      },
      "source": [
        "import tensorflow as tf\n",
        "from tensorflow.keras import datasets,layers,models\n"
      ],
      "execution_count": null,
      "outputs": []
    },
    {
      "cell_type": "code",
      "metadata": {
        "colab": {
          "base_uri": "https://localhost:8080/"
        },
        "id": "Rl55CftFyWq3",
        "outputId": "75c2e40b-c4c8-4f55-f3cc-71fe3fdb40f9"
      },
      "source": [
        "(train_images, train_labels),(test_images, test_labels) = datasets.cifar10.load_data()\n",
        "train_images, test_images = train_images / 255.0, test_images /255.0\n"
      ],
      "execution_count": null,
      "outputs": [
        {
          "output_type": "stream",
          "text": [
            "Downloading data from https://www.cs.toronto.edu/~kriz/cifar-10-python.tar.gz\n",
            "170500096/170498071 [==============================] - 2s 0us/step\n"
          ],
          "name": "stdout"
        }
      ]
    },
    {
      "cell_type": "code",
      "metadata": {
        "id": "w3DnX6mzzsQU"
      },
      "source": [
        "model = models.Sequential()\n",
        "model.add(layers.Conv2D(64,(3,3),activation='relu', input_shape=(32,32,3)))\n",
        "model.add(layers.MaxPooling2D((2,2)))\n",
        "model.add(layers.Conv2D(128,(3,3),activation='relu'))\n",
        "model.add(layers.MaxPooling2D((2,2)))\n",
        "model.add(layers.Conv2D(128,(3,3),activation='relu'))"
      ],
      "execution_count": null,
      "outputs": []
    },
    {
      "cell_type": "code",
      "metadata": {
        "colab": {
          "base_uri": "https://localhost:8080/"
        },
        "id": "uAPz-tEi12MN",
        "outputId": "23ba2aeb-89f6-4801-caee-557bc1c7a981"
      },
      "source": [
        "model.summary\n"
      ],
      "execution_count": null,
      "outputs": [
        {
          "output_type": "execute_result",
          "data": {
            "text/plain": [
              "<bound method Model.summary of <tensorflow.python.keras.engine.sequential.Sequential object at 0x7f8e857f3f10>>"
            ]
          },
          "metadata": {
            "tags": []
          },
          "execution_count": 5
        }
      ]
    },
    {
      "cell_type": "code",
      "metadata": {
        "id": "4Q8Wy8EN2C3y"
      },
      "source": [
        "model.add(layers.Flatten())\n",
        "model.add(layers.Dense(64,activation='relu'))\n",
        "model.add(layers.Dense(10))\n"
      ],
      "execution_count": null,
      "outputs": []
    },
    {
      "cell_type": "code",
      "metadata": {
        "colab": {
          "base_uri": "https://localhost:8080/"
        },
        "id": "TYM0BhhC2dUn",
        "outputId": "e86bae64-35f4-4c29-a2c1-b9b97691b222"
      },
      "source": [
        "model.summary\n"
      ],
      "execution_count": null,
      "outputs": [
        {
          "output_type": "execute_result",
          "data": {
            "text/plain": [
              "<bound method Model.summary of <tensorflow.python.keras.engine.sequential.Sequential object at 0x7f8e857f3f10>>"
            ]
          },
          "metadata": {
            "tags": []
          },
          "execution_count": 7
        }
      ]
    },
    {
      "cell_type": "code",
      "metadata": {
        "colab": {
          "background_save": true,
          "base_uri": "https://localhost:8080/"
        },
        "id": "ZEYaicEy2g7E",
        "outputId": "9f517e57-0573-46e6-b2fa-5e0fb5b59108"
      },
      "source": [
        "model.compile(optimizer='adam',\n",
        "              loss=tf.keras.losses.SparseCategoricalCrossentropy(from_logits=True),\n",
        "              metrics=['accuracy'])\n",
        "history=model.fit(train_images,train_labels, epochs=75,\n",
        "                  validation_data=(test_images,test_labels\n",
        "                                   ))"
      ],
      "execution_count": null,
      "outputs": [
        {
          "output_type": "stream",
          "text": [
            "Epoch 1/75\n",
            "1563/1563 [==============================] - 14s 9ms/step - loss: 0.0714 - accuracy: 0.9784 - val_loss: 2.9703 - val_accuracy: 0.7058\n",
            "Epoch 2/75\n",
            "1563/1563 [==============================] - 12s 8ms/step - loss: 0.0630 - accuracy: 0.9801 - val_loss: 2.8606 - val_accuracy: 0.7081\n",
            "Epoch 3/75\n",
            "1563/1563 [==============================] - 12s 8ms/step - loss: 0.0663 - accuracy: 0.9801 - val_loss: 2.9515 - val_accuracy: 0.7042\n",
            "Epoch 4/75\n",
            "1563/1563 [==============================] - 12s 8ms/step - loss: 0.0551 - accuracy: 0.9829 - val_loss: 2.8044 - val_accuracy: 0.7045\n",
            "Epoch 5/75\n",
            "1563/1563 [==============================] - 12s 8ms/step - loss: 0.0532 - accuracy: 0.9827 - val_loss: 2.9234 - val_accuracy: 0.7067\n",
            "Epoch 6/75\n",
            "1563/1563 [==============================] - 12s 8ms/step - loss: 0.0569 - accuracy: 0.9824 - val_loss: 2.9848 - val_accuracy: 0.7054\n",
            "Epoch 7/75\n",
            "1563/1563 [==============================] - 12s 8ms/step - loss: 0.0621 - accuracy: 0.9811 - val_loss: 2.8924 - val_accuracy: 0.7044\n",
            "Epoch 8/75\n",
            "1563/1563 [==============================] - 12s 8ms/step - loss: 0.0492 - accuracy: 0.9851 - val_loss: 2.9721 - val_accuracy: 0.6975\n",
            "Epoch 9/75\n",
            "1563/1563 [==============================] - 12s 8ms/step - loss: 0.0531 - accuracy: 0.9837 - val_loss: 2.9237 - val_accuracy: 0.7026\n",
            "Epoch 10/75\n",
            "1563/1563 [==============================] - 12s 8ms/step - loss: 0.0450 - accuracy: 0.9852 - val_loss: 2.9755 - val_accuracy: 0.7029\n",
            "Epoch 11/75\n",
            "1563/1563 [==============================] - 12s 8ms/step - loss: 0.0628 - accuracy: 0.9806 - val_loss: 2.9638 - val_accuracy: 0.6948\n",
            "Epoch 12/75\n",
            "1563/1563 [==============================] - 12s 8ms/step - loss: 0.0568 - accuracy: 0.9833 - val_loss: 3.0699 - val_accuracy: 0.6978\n",
            "Epoch 13/75\n",
            "1563/1563 [==============================] - 12s 8ms/step - loss: 0.0515 - accuracy: 0.9842 - val_loss: 3.1729 - val_accuracy: 0.6943\n",
            "Epoch 14/75\n",
            "1563/1563 [==============================] - 12s 8ms/step - loss: 0.0591 - accuracy: 0.9823 - val_loss: 3.1048 - val_accuracy: 0.7028\n",
            "Epoch 15/75\n",
            "1563/1563 [==============================] - 12s 8ms/step - loss: 0.0589 - accuracy: 0.9824 - val_loss: 3.1795 - val_accuracy: 0.6989\n",
            "Epoch 16/75\n",
            "1563/1563 [==============================] - 12s 8ms/step - loss: 0.0555 - accuracy: 0.9836 - val_loss: 3.1553 - val_accuracy: 0.7007\n",
            "Epoch 17/75\n",
            "1563/1563 [==============================] - 12s 8ms/step - loss: 0.0601 - accuracy: 0.9815 - val_loss: 3.2662 - val_accuracy: 0.7078\n",
            "Epoch 18/75\n",
            "1563/1563 [==============================] - 12s 8ms/step - loss: 0.0520 - accuracy: 0.9839 - val_loss: 3.2491 - val_accuracy: 0.6988\n",
            "Epoch 19/75\n",
            "1563/1563 [==============================] - 12s 8ms/step - loss: 0.0512 - accuracy: 0.9846 - val_loss: 3.2457 - val_accuracy: 0.7038\n",
            "Epoch 20/75\n",
            "1563/1563 [==============================] - 12s 8ms/step - loss: 0.0522 - accuracy: 0.9837 - val_loss: 3.2509 - val_accuracy: 0.6979\n",
            "Epoch 21/75\n",
            "1563/1563 [==============================] - 12s 8ms/step - loss: 0.0472 - accuracy: 0.9856 - val_loss: 3.2626 - val_accuracy: 0.6967\n",
            "Epoch 22/75\n",
            "1563/1563 [==============================] - 12s 8ms/step - loss: 0.0511 - accuracy: 0.9839 - val_loss: 3.3612 - val_accuracy: 0.6980\n",
            "Epoch 23/75\n",
            "1563/1563 [==============================] - 13s 8ms/step - loss: 0.0427 - accuracy: 0.9875 - val_loss: 3.4986 - val_accuracy: 0.6950\n",
            "Epoch 24/75\n",
            "1563/1563 [==============================] - 13s 8ms/step - loss: 0.0648 - accuracy: 0.9813 - val_loss: 3.1900 - val_accuracy: 0.6990\n",
            "Epoch 25/75\n",
            "1563/1563 [==============================] - 13s 8ms/step - loss: 0.0430 - accuracy: 0.9864 - val_loss: 3.2623 - val_accuracy: 0.6956\n",
            "Epoch 26/75\n",
            "1563/1563 [==============================] - 13s 8ms/step - loss: 0.0610 - accuracy: 0.9830 - val_loss: 3.4124 - val_accuracy: 0.7012\n",
            "Epoch 27/75\n",
            "1563/1563 [==============================] - 13s 8ms/step - loss: 0.0519 - accuracy: 0.9846 - val_loss: 3.2988 - val_accuracy: 0.6950\n",
            "Epoch 28/75\n",
            "1563/1563 [==============================] - 13s 8ms/step - loss: 0.0522 - accuracy: 0.9844 - val_loss: 3.3725 - val_accuracy: 0.6969\n",
            "Epoch 29/75\n",
            "1563/1563 [==============================] - 13s 8ms/step - loss: 0.0491 - accuracy: 0.9849 - val_loss: 3.3796 - val_accuracy: 0.7040\n",
            "Epoch 30/75\n",
            "1563/1563 [==============================] - 13s 8ms/step - loss: 0.0564 - accuracy: 0.9844 - val_loss: 3.3567 - val_accuracy: 0.6973\n",
            "Epoch 31/75\n",
            "1563/1563 [==============================] - 13s 8ms/step - loss: 0.0545 - accuracy: 0.9849 - val_loss: 3.6086 - val_accuracy: 0.6925\n",
            "Epoch 32/75\n",
            "1563/1563 [==============================] - 13s 8ms/step - loss: 0.0532 - accuracy: 0.9843 - val_loss: 3.5363 - val_accuracy: 0.6966\n",
            "Epoch 33/75\n",
            "1563/1563 [==============================] - 13s 8ms/step - loss: 0.0548 - accuracy: 0.9846 - val_loss: 3.5469 - val_accuracy: 0.6999\n",
            "Epoch 34/75\n",
            "1563/1563 [==============================] - 13s 8ms/step - loss: 0.0470 - accuracy: 0.9858 - val_loss: 3.6077 - val_accuracy: 0.7033\n",
            "Epoch 35/75\n",
            "1563/1563 [==============================] - 13s 8ms/step - loss: 0.0475 - accuracy: 0.9863 - val_loss: 3.6095 - val_accuracy: 0.6935\n",
            "Epoch 36/75\n",
            "1563/1563 [==============================] - 13s 8ms/step - loss: 0.0631 - accuracy: 0.9838 - val_loss: 3.7121 - val_accuracy: 0.7060\n",
            "Epoch 37/75\n",
            "1563/1563 [==============================] - 13s 8ms/step - loss: 0.0427 - accuracy: 0.9879 - val_loss: 3.4281 - val_accuracy: 0.6968\n",
            "Epoch 38/75\n",
            "1563/1563 [==============================] - 13s 8ms/step - loss: 0.0496 - accuracy: 0.9855 - val_loss: 3.8996 - val_accuracy: 0.7073\n",
            "Epoch 39/75\n",
            "1563/1563 [==============================] - 13s 8ms/step - loss: 0.0538 - accuracy: 0.9842 - val_loss: 3.6483 - val_accuracy: 0.6975\n",
            "Epoch 40/75\n",
            "1563/1563 [==============================] - 13s 8ms/step - loss: 0.0539 - accuracy: 0.9846 - val_loss: 3.6712 - val_accuracy: 0.7021\n",
            "Epoch 41/75\n",
            "1563/1563 [==============================] - 13s 8ms/step - loss: 0.0415 - accuracy: 0.9884 - val_loss: 3.6040 - val_accuracy: 0.6928\n",
            "Epoch 42/75\n",
            "1563/1563 [==============================] - 13s 8ms/step - loss: 0.0522 - accuracy: 0.9846 - val_loss: 3.8196 - val_accuracy: 0.6991\n",
            "Epoch 43/75\n",
            "1563/1563 [==============================] - 13s 8ms/step - loss: 0.0483 - accuracy: 0.9865 - val_loss: 3.7490 - val_accuracy: 0.7046\n",
            "Epoch 44/75\n",
            "1563/1563 [==============================] - 13s 8ms/step - loss: 0.0516 - accuracy: 0.9858 - val_loss: 3.6977 - val_accuracy: 0.6970\n",
            "Epoch 45/75\n",
            "1563/1563 [==============================] - 13s 8ms/step - loss: 0.0463 - accuracy: 0.9870 - val_loss: 3.8848 - val_accuracy: 0.7022\n",
            "Epoch 46/75\n",
            "1563/1563 [==============================] - 13s 8ms/step - loss: 0.0496 - accuracy: 0.9866 - val_loss: 3.7304 - val_accuracy: 0.6986\n",
            "Epoch 47/75\n",
            "1563/1563 [==============================] - 13s 8ms/step - loss: 0.0475 - accuracy: 0.9874 - val_loss: 3.7446 - val_accuracy: 0.7039\n",
            "Epoch 48/75\n",
            "1563/1563 [==============================] - 13s 9ms/step - loss: 0.0456 - accuracy: 0.9878 - val_loss: 3.7089 - val_accuracy: 0.7010\n",
            "Epoch 49/75\n",
            "1563/1563 [==============================] - 13s 8ms/step - loss: 0.0388 - accuracy: 0.9890 - val_loss: 3.7682 - val_accuracy: 0.7012\n",
            "Epoch 50/75\n",
            "1563/1563 [==============================] - 13s 8ms/step - loss: 0.0605 - accuracy: 0.9831 - val_loss: 3.8684 - val_accuracy: 0.7071\n",
            "Epoch 51/75\n",
            "1563/1563 [==============================] - 13s 8ms/step - loss: 0.0386 - accuracy: 0.9892 - val_loss: 3.9508 - val_accuracy: 0.7017\n",
            "Epoch 52/75\n",
            "1563/1563 [==============================] - 13s 8ms/step - loss: 0.0559 - accuracy: 0.9851 - val_loss: 4.0786 - val_accuracy: 0.6932\n",
            "Epoch 53/75\n",
            "1563/1563 [==============================] - 13s 8ms/step - loss: 0.0603 - accuracy: 0.9845 - val_loss: 4.0034 - val_accuracy: 0.6999\n",
            "Epoch 54/75\n",
            "1563/1563 [==============================] - 13s 9ms/step - loss: 0.0378 - accuracy: 0.9894 - val_loss: 4.2855 - val_accuracy: 0.6931\n",
            "Epoch 55/75\n",
            "1563/1563 [==============================] - 13s 8ms/step - loss: 0.0537 - accuracy: 0.9849 - val_loss: 4.1806 - val_accuracy: 0.6924\n",
            "Epoch 56/75\n",
            "1563/1563 [==============================] - 13s 8ms/step - loss: 0.0464 - accuracy: 0.9870 - val_loss: 4.3638 - val_accuracy: 0.6953\n",
            "Epoch 57/75\n",
            "1563/1563 [==============================] - 13s 8ms/step - loss: 0.0502 - accuracy: 0.9863 - val_loss: 4.1994 - val_accuracy: 0.6945\n",
            "Epoch 58/75\n",
            "1563/1563 [==============================] - 13s 8ms/step - loss: 0.0453 - accuracy: 0.9878 - val_loss: 4.4562 - val_accuracy: 0.6899\n",
            "Epoch 59/75\n",
            "1563/1563 [==============================] - 13s 8ms/step - loss: 0.0622 - accuracy: 0.9851 - val_loss: 4.3087 - val_accuracy: 0.6972\n",
            "Epoch 60/75\n",
            "1563/1563 [==============================] - 13s 8ms/step - loss: 0.0433 - accuracy: 0.9883 - val_loss: 4.4202 - val_accuracy: 0.6970\n",
            "Epoch 61/75\n",
            "1563/1563 [==============================] - 13s 8ms/step - loss: 0.0468 - accuracy: 0.9877 - val_loss: 4.2709 - val_accuracy: 0.7043\n",
            "Epoch 62/75\n",
            "1563/1563 [==============================] - 13s 8ms/step - loss: 0.0546 - accuracy: 0.9855 - val_loss: 4.3831 - val_accuracy: 0.7016\n",
            "Epoch 63/75\n",
            "1563/1563 [==============================] - 13s 8ms/step - loss: 0.0434 - accuracy: 0.9891 - val_loss: 4.2861 - val_accuracy: 0.6967\n",
            "Epoch 64/75\n",
            "1563/1563 [==============================] - 13s 8ms/step - loss: 0.0433 - accuracy: 0.9886 - val_loss: 4.3176 - val_accuracy: 0.7053\n",
            "Epoch 65/75\n",
            "1563/1563 [==============================] - 13s 8ms/step - loss: 0.0413 - accuracy: 0.9898 - val_loss: 4.3586 - val_accuracy: 0.7008\n",
            "Epoch 66/75\n",
            "1563/1563 [==============================] - 13s 8ms/step - loss: 0.0585 - accuracy: 0.9844 - val_loss: 4.4121 - val_accuracy: 0.6964\n",
            "Epoch 67/75\n",
            "1563/1563 [==============================] - 13s 8ms/step - loss: 0.0374 - accuracy: 0.9902 - val_loss: 4.4397 - val_accuracy: 0.7014\n",
            "Epoch 68/75\n",
            "1563/1563 [==============================] - 13s 8ms/step - loss: 0.0516 - accuracy: 0.9869 - val_loss: 4.4192 - val_accuracy: 0.7015\n",
            "Epoch 69/75\n",
            "1563/1563 [==============================] - 13s 8ms/step - loss: 0.0522 - accuracy: 0.9880 - val_loss: 4.6047 - val_accuracy: 0.7042\n",
            "Epoch 70/75\n",
            "1563/1563 [==============================] - 13s 8ms/step - loss: 0.0538 - accuracy: 0.9871 - val_loss: 4.6890 - val_accuracy: 0.6931\n",
            "Epoch 71/75\n",
            "1563/1563 [==============================] - 13s 9ms/step - loss: 0.0433 - accuracy: 0.9884 - val_loss: 4.6759 - val_accuracy: 0.6952\n",
            "Epoch 72/75\n",
            "1563/1563 [==============================] - 14s 9ms/step - loss: 0.0656 - accuracy: 0.9841 - val_loss: 4.5098 - val_accuracy: 0.6974\n",
            "Epoch 73/75\n",
            "1563/1563 [==============================] - 13s 8ms/step - loss: 0.0446 - accuracy: 0.9885 - val_loss: 4.6279 - val_accuracy: 0.6965\n",
            "Epoch 74/75\n",
            "1563/1563 [==============================] - 13s 8ms/step - loss: 0.0512 - accuracy: 0.9869 - val_loss: 4.7844 - val_accuracy: 0.7016\n",
            "Epoch 75/75\n",
            "1563/1563 [==============================] - 13s 8ms/step - loss: 0.0437 - accuracy: 0.9883 - val_loss: 4.8617 - val_accuracy: 0.6908\n"
          ],
          "name": "stdout"
        }
      ]
    },
    {
      "cell_type": "code",
      "metadata": {
        "id": "yuxjbFYH3fhU"
      },
      "source": [
        "test_loss, test_acc = model.evaluate(test_images,test_labels,verbose=2)\n"
      ],
      "execution_count": null,
      "outputs": []
    },
    {
      "cell_type": "code",
      "metadata": {
        "id": "KGpA3Yku3xRL"
      },
      "source": [
        "print(test_acc)"
      ],
      "execution_count": null,
      "outputs": []
    },
    {
      "cell_type": "code",
      "metadata": {
        "id": "S94FjoPE_oo_"
      },
      "source": [
        ""
      ],
      "execution_count": null,
      "outputs": []
    }
  ]
}